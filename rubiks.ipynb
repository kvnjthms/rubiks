{
  "nbformat": 4,
  "nbformat_minor": 0,
  "metadata": {
    "colab": {
      "provenance": [],
      "collapsed_sections": [
        "x3j5wd4nDELE"
      ]
    },
    "kernelspec": {
      "name": "python3",
      "display_name": "Python 3"
    },
    "language_info": {
      "name": "python"
    }
  },
  "cells": [
    {
      "cell_type": "markdown",
      "source": [
        "# Neural Rubik's cube solver"
      ],
      "metadata": {
        "id": "WPMnNT8gB0Ey"
      }
    },
    {
      "cell_type": "markdown",
      "source": [
        "### Rubik's cube definition as a 3-D tensor"
      ],
      "metadata": {
        "id": "5eIQmMGFCF97"
      }
    },
    {
      "cell_type": "code",
      "source": [
        "import torch\n",
        "\n",
        "# represent the solved cube as a 3-D tensor\n",
        "RUBIKS_CUBE = torch.Tensor([[[1, 2, 3],\n",
        "                             [4, 5, 6],\n",
        "                             [7, 8, 9]],\n",
        "\n",
        "                            [[10, 11, 12],\n",
        "                             [13, 0, 14],\n",
        "                             [15, 16, 17]],\n",
        "\n",
        "                            [[18, 19, 20],\n",
        "                             [21, 22, 23],\n",
        "                             [24, 25, 26]]])\n",
        "\n",
        "# scramble the cube up to this many moves\n",
        "MAX_MOVES = 10\n",
        "# make this many passes over the dataset\n",
        "NUM_EPOCHS = 20"
      ],
      "metadata": {
        "id": "Tb7_TMFEEhT7"
      },
      "execution_count": null,
      "outputs": []
    },
    {
      "cell_type": "markdown",
      "source": [
        "### Cube representation with letters"
      ],
      "metadata": {
        "id": "dAitn8BLCV14"
      }
    },
    {
      "cell_type": "code",
      "source": [
        "import string\n",
        "import numpy as np\n",
        "\n",
        "def encode(cube):\n",
        "    alphabet = string.ascii_lowercase  # Use built-in alphabet\n",
        "    indices = cube[cube != 0] - 1\n",
        "    return \"\".join(np.array(list(alphabet))[indices.int()])\n",
        "encode(RUBIKS_CUBE)"
      ],
      "metadata": {
        "id": "1Tri56NzEm8z",
        "colab": {
          "base_uri": "https://localhost:8080/",
          "height": 35
        },
        "outputId": "f8f29ef9-3485-40b6-d6df-d464f677ccfb"
      },
      "execution_count": null,
      "outputs": [
        {
          "output_type": "execute_result",
          "data": {
            "text/plain": [
              "'abcdefghijklmnopqrstuvwxyz'"
            ],
            "application/vnd.google.colaboratory.intrinsic+json": {
              "type": "string"
            }
          },
          "metadata": {},
          "execution_count": 2
        }
      ]
    },
    {
      "cell_type": "markdown",
      "source": [
        "### Scrambling"
      ],
      "metadata": {
        "id": "ZEjUwgA0CmD3"
      }
    },
    {
      "cell_type": "code",
      "source": [
        "import random\n",
        "\n",
        "move_types = [\"R\", \"RP\", \"L\", \"LP\", \"U\", \"UP\", \"D\", \"DP\", \"F\", \"FP\", \"B\", \"BP\"]\n",
        "\n",
        "def move(cube, move_type):\n",
        "    cube = cube.clone()\n",
        "    cube.squeeze_()\n",
        "    if move_type == \"R\":\n",
        "        cube[:, :, 2] = cube[:, :, 2].rot90(k=1)\n",
        "    elif move_type == \"RP\":\n",
        "        cube[:, :, 2] = cube[:, :, 2].rot90(k=3)\n",
        "    elif move_type == \"L\":\n",
        "        cube[:, :, 0] = cube[:, :, 0].rot90(k=3)\n",
        "    elif move_type == \"LP\":\n",
        "        cube[:, :, 0] = cube[:, :, 0].rot90(k=1)\n",
        "    elif move_type == \"U\":\n",
        "        cube[0, :, :] = cube[0, :, :].rot90(k=3)\n",
        "    elif move_type == \"UP\":\n",
        "        cube[0, :, :] = cube[0, :, :].rot90(k=1)\n",
        "    elif move_type == \"D\":\n",
        "        cube[2, :, :] = cube[2, :, :].rot90(k=1)\n",
        "    elif move_type == \"DP\":\n",
        "        cube[2, :, :] = cube[2, :, :].rot90(k=3)\n",
        "    elif move_type == \"F\":\n",
        "        cube[:, 2, :] = cube[:, 2, :].rot90(k=3)\n",
        "    elif move_type == \"FP\":\n",
        "        cube[:, 2, :] = cube[:, 2, :].rot90(k=1)\n",
        "    elif move_type == \"B\":\n",
        "        cube[:, 0, :] = cube[:, 0, :].rot90(k=1)\n",
        "    elif move_type == \"BP\":\n",
        "        cube[:, 0, :] = cube[:, 0, :].rot90(k=3)\n",
        "    return cube\n",
        "\n",
        "def apply_moves(cube, moves):\n",
        "    for m in moves:\n",
        "        cube = move(cube, m)\n",
        "    return cube\n",
        "\n",
        "def reverse_moves(moves):\n",
        "    # Turn clockwise moves into counter-clockwise and vice versa\n",
        "    # Also reverse the order of moves\n",
        "    result = []\n",
        "    for m in moves:\n",
        "      result.append(reverse_move(m))\n",
        "    return list(reversed(result))\n",
        "\n",
        "def reverse_move(m):\n",
        "    # Turn clockwise moves into counter-clockwise and vice versa\n",
        "    if m.endswith(\"P\"):\n",
        "      return  m[0]\n",
        "    return m + \"P\"\n"
      ],
      "metadata": {
        "id": "hmHe8ws6EsZr"
      },
      "execution_count": null,
      "outputs": []
    },
    {
      "cell_type": "markdown",
      "source": [
        "### Unit tests"
      ],
      "metadata": {
        "id": "x3j5wd4nDELE"
      }
    },
    {
      "cell_type": "code",
      "source": [
        "def test():\n",
        "  encoded_cube = encode(move(RUBIKS_CUBE, \"R\"))\n",
        "  if encoded_cube == \"abideqghzjkfmnopwrscuvlxyt\":\n",
        "    print(\"OK\")\n",
        "  else:\n",
        "    print(\"NOT OK\", encoded_cube)\n",
        "\n",
        "  encoded_cube = encode(move(RUBIKS_CUBE, \"RP\"))\n",
        "  if encoded_cube == \"abtdelghcjkwmnopfrszuvqxyi\":\n",
        "    print(\"OK\")\n",
        "  else:\n",
        "    print(\"NOT OK\", encoded_cube)\n",
        "\n",
        "  encoded_cube = encode(move(RUBIKS_CUBE, \"L\"))\n",
        "  if encoded_cube == \"rbcjefahiuklmndpqxstovwgyz\":\n",
        "    print(\"OK\")\n",
        "  else:\n",
        "    print(\"NOT OK\", encoded_cube)\n",
        "\n",
        "  encoded_cube = encode(move(RUBIKS_CUBE, \"LP\"))\n",
        "  if encoded_cube == \"gbcoefxhidklmnupqastjvwryz\":\n",
        "    print(\"OK\")\n",
        "  else:\n",
        "    print(\"NOT OK\", encoded_cube)\n",
        "\n",
        "  encoded_cube = encode(move(RUBIKS_CUBE, \"U\"))\n",
        "  if encoded_cube == \"gdahebifcjklmnopqrstuvwxyz\":\n",
        "    print(\"OK\")\n",
        "  else:\n",
        "    print(\"NOT OK\", encoded_cube)\n",
        "\n",
        "  encoded_cube = encode(move(RUBIKS_CUBE, \"UP\"))\n",
        "  if encoded_cube == \"cfibehadgjklmnopqrstuvwxyz\":\n",
        "    print(\"OK\")\n",
        "  else:\n",
        "    print(\"NOT OK\", encoded_cube)\n",
        "\n",
        "  encoded_cube = encode(move(RUBIKS_CUBE, \"D\"))\n",
        "  if encoded_cube == \"abcdefghijklmnopqtwzsvyrux\":\n",
        "    print(\"OK\")\n",
        "  else:\n",
        "    print(\"NOT OK\", encoded_cube)\n",
        "\n",
        "  encoded_cube = encode(move(RUBIKS_CUBE, \"DP\"))\n",
        "  if encoded_cube == \"abcdefghijklmnopqxuryvszwt\":\n",
        "    print(\"OK\")\n",
        "  else:\n",
        "    print(\"NOT OK\", encoded_cube)\n",
        "\n",
        "  encoded_cube = encode(move(RUBIKS_CUBE, \"F\"))\n",
        "  if encoded_cube == \"abcdefxogjklmnyphrstuvwzqi\":\n",
        "    print(\"OK\")\n",
        "  else:\n",
        "    print(\"NOT OK\", encoded_cube)\n",
        "\n",
        "  encoded_cube = encode(move(RUBIKS_CUBE, \"FP\"))\n",
        "  if encoded_cube == \"abcdefiqzjklmnhpyrstuvwgox\":\n",
        "    print(\"OK\")\n",
        "  else:\n",
        "    print(\"NOT OK\", encoded_cube)\n",
        "\n",
        "  encoded_cube = encode(move(RUBIKS_CUBE, \"B\"))\n",
        "  if encoded_cube == \"cltdefghibksmnopqajruvwxyz\":\n",
        "    print(\"OK\")\n",
        "  else:\n",
        "    print(\"NOT OK\", encoded_cube)\n",
        "\n",
        "  encoded_cube = encode(move(RUBIKS_CUBE, \"BP\"))\n",
        "  if encoded_cube == \"rjadefghiskbmnopqtlcuvwxyz\":\n",
        "    print(\"OK\")\n",
        "  else:\n",
        "    print(\"NOT OK\", encoded_cube)\n",
        "\n",
        "def test_scramble():\n",
        "  moves = random.choices(move_types, k=MAX_MOVES)\n",
        "  scrambled_cube = apply_moves(RUBIKS_CUBE, moves)\n",
        "  reversed_moves = reverse_moves(moves)\n",
        "  unscrambled_cube = apply_moves(scrambled_cube, reversed_moves)\n",
        "  if encode(unscrambled_cube) == encode(RUBIKS_CUBE):\n",
        "    print(\"unscramble OK\")\n",
        "  else:\n",
        "    print(\"unscramble NOT OK\")\n",
        "\n",
        "test()\n",
        "test_scramble()"
      ],
      "metadata": {
        "colab": {
          "base_uri": "https://localhost:8080/"
        },
        "id": "Bo0-GB-WxeTd",
        "outputId": "6f6e0575-3536-4b01-fc13-5cc8f5ab59fe"
      },
      "execution_count": null,
      "outputs": [
        {
          "output_type": "stream",
          "name": "stdout",
          "text": [
            "OK\n",
            "OK\n",
            "OK\n",
            "OK\n",
            "OK\n",
            "OK\n",
            "OK\n",
            "OK\n",
            "OK\n",
            "OK\n",
            "OK\n",
            "OK\n",
            "unscramble OK\n"
          ]
        }
      ]
    },
    {
      "cell_type": "markdown",
      "source": [
        "## Data Loader\n"
      ],
      "metadata": {
        "id": "7mcDZfoXt0do"
      }
    },
    {
      "cell_type": "code",
      "source": [
        "from torch.utils.data import Dataset, DataLoader\n",
        "\n",
        "class RubiksCubeDataset(Dataset):\n",
        "    def __init__(self, num_samples):\n",
        "        self.num_samples = num_samples\n",
        "        self.max_moves = MAX_MOVES\n",
        "        self.data = self._generate_data()\n",
        "\n",
        "    def _generate_data(self):\n",
        "        data = []\n",
        "        for _ in range(self.num_samples):\n",
        "            cube = RUBIKS_CUBE.clone()\n",
        "            moves = random.choices(move_types, k=random.randint(1, self.max_moves))\n",
        "            scrambled_cube = apply_moves(cube, moves)\n",
        "            # add the reverse of the last move as the best move\n",
        "            data.append((scrambled_cube, reverse_move(moves[-1])))\n",
        "        return data\n",
        "\n",
        "    def __len__(self):\n",
        "        return len(self.data)\n",
        "\n",
        "    def __getitem__(self, idx):\n",
        "        return self.data[idx]\n"
      ],
      "metadata": {
        "collapsed": true,
        "id": "LtkHvp2Ot6Oa"
      },
      "execution_count": null,
      "outputs": []
    },
    {
      "cell_type": "markdown",
      "source": [
        "## Neural Network"
      ],
      "metadata": {
        "id": "uSgxE2ZHS-Sh"
      }
    },
    {
      "cell_type": "code",
      "source": [
        "class RubiksSolverNetwork():\n",
        "    def __init__(self):\n",
        "        # Create separate datasets for training and evaluation\n",
        "        self.train_dataset = RubiksCubeDataset(num_samples=100000)\n",
        "        self.eval_dataset = RubiksCubeDataset(num_samples=1000)\n",
        "\n",
        "        # Create data loaders\n",
        "        self.train_loader = DataLoader(self.train_dataset, batch_size=32)\n",
        "        self.eval_loader = DataLoader(self.eval_dataset, batch_size=1)\n",
        "\n",
        "        # Define a Linear layer for 27 input features and 12 output moves\n",
        "        # self.weight starts as a matrix with uniform random numbers between 0 and 1\n",
        "        self.weight = torch.rand((27, 12), requires_grad=True)\n",
        "\n",
        "    def train(self):\n",
        "        losses = []\n",
        "        for cubes, best_moves in self.train_loader:\n",
        "            # cubes is of shape 32x3x3x3\n",
        "            # Convert moves to indices. R -> 0, RP -> 1, L -> 2 and so on.\n",
        "            best_moves = torch.tensor([move_types.index(m) for m in best_moves])\n",
        "            # Forward pass\n",
        "            output = self.forward(cubes)\n",
        "            # output is of shape 32x12\n",
        "\n",
        "            # cross-entropy loss\n",
        "            log_probs = torch.log_softmax(output, dim=1)  # Log probabilities\n",
        "            # at this point, log_probs is a matrix of shape 32x12\n",
        "            best_log_probs = log_probs[range(len(best_moves)), best_moves]\n",
        "            # best_log_probs is a column vector with 32 rows\n",
        "            loss = -best_log_probs.mean()  # Negative log-likelihood\n",
        "\n",
        "            # Compute gradients using autograd\n",
        "            loss.backward()\n",
        "\n",
        "            # Now do gradient descent to optimize the parameters\n",
        "            self.weight.data -= 0.0001 * self.weight.grad  # Manual gradient update\n",
        "            self.weight.grad.zero_()  # Reset gradients\n",
        "\n",
        "            losses.append(loss.item())\n",
        "        print(f\"Training Loss: {np.mean(losses):.4f}\")\n",
        "\n",
        "    def eval(self):\n",
        "        correct = 0\n",
        "        total = 0\n",
        "\n",
        "        for cube, _ in self.eval_loader:  # batch_size=1 ensures cube has shape (1, 3, 3, 3)\n",
        "            for _ in range(2 * MAX_MOVES):  # Try up to these many moves\n",
        "                output = self.forward(cube)\n",
        "                predicted_move_index = torch.argmax(output, dim=1).item()\n",
        "                predicted_move = move_types[predicted_move_index]\n",
        "\n",
        "                # Apply the predicted move to the cube\n",
        "                cube = move(cube, predicted_move)\n",
        "\n",
        "                # the returned cube has shape (3, 3, 3)\n",
        "\n",
        "                # Check if the cube is solved\n",
        "                if torch.equal(cube, RUBIKS_CUBE):\n",
        "                    correct += 1\n",
        "                    break\n",
        "                # add batch dimension to make the shape (1, 3, 3, 3)\n",
        "                # this is because forward() expects a batch dimension.\n",
        "                cube.unsqueeze_(0)\n",
        "\n",
        "            total += 1\n",
        "        accuracy = 100 * correct / total\n",
        "        print(f\"Percentage of correctly solved cubes: {accuracy:.2f}%\")\n",
        "        return accuracy\n",
        "\n",
        "    def forward(self, x):\n",
        "        # Reshape to make it compatible for matrix multiplication\n",
        "        x = x.view(x.size(0), -1)  # Reshape to (batch_size, 27)\n",
        "        # Forward pass through the linear layer\n",
        "        # This multiplies x with the weight matrix of shape (27, 12)\n",
        "        return x @ self.weight\n",
        "\n",
        "# Instantiate the neural network\n",
        "net = RubiksSolverNetwork()"
      ],
      "metadata": {
        "id": "0DDiVTL-2pDX"
      },
      "execution_count": null,
      "outputs": []
    },
    {
      "cell_type": "markdown",
      "source": [
        "# Training & Eval"
      ],
      "metadata": {
        "id": "zAWqMaHpTGZK"
      }
    },
    {
      "cell_type": "code",
      "source": [
        "import matplotlib.pyplot as plt\n",
        "\n",
        "eval_accuracies = []\n",
        "for epoch in range(NUM_EPOCHS):\n",
        "  print(\"Epoch\", epoch)\n",
        "  net.train()\n",
        "  acc = net.eval()\n",
        "  eval_accuracies.append(acc)\n",
        "\n",
        "# plot accuracies\n",
        "plt.plot(eval_accuracies)\n",
        "plt.xlabel(\"Epoch\")\n",
        "plt.ylabel(\"Accuracy\")\n",
        "plt.show()\n"
      ],
      "metadata": {
        "colab": {
          "base_uri": "https://localhost:8080/",
          "height": 1000
        },
        "id": "971ehXvdTI6Q",
        "outputId": "020b7e56-badc-49bb-d840-95e9ac259ae3"
      },
      "execution_count": null,
      "outputs": [
        {
          "output_type": "stream",
          "name": "stdout",
          "text": [
            "Epoch 0\n",
            "Training Loss: 13.6989\n",
            "Percentage of correctly solved cubes: 3.00%\n",
            "Epoch 1\n",
            "Training Loss: 7.7265\n",
            "Percentage of correctly solved cubes: 13.10%\n",
            "Epoch 2\n",
            "Training Loss: 5.1951\n",
            "Percentage of correctly solved cubes: 17.00%\n",
            "Epoch 3\n",
            "Training Loss: 3.7426\n",
            "Percentage of correctly solved cubes: 19.40%\n",
            "Epoch 4\n",
            "Training Loss: 2.8777\n",
            "Percentage of correctly solved cubes: 28.20%\n",
            "Epoch 5\n",
            "Training Loss: 2.4087\n",
            "Percentage of correctly solved cubes: 29.30%\n",
            "Epoch 6\n",
            "Training Loss: 2.1803\n",
            "Percentage of correctly solved cubes: 30.70%\n",
            "Epoch 7\n",
            "Training Loss: 2.0823\n",
            "Percentage of correctly solved cubes: 31.60%\n",
            "Epoch 8\n",
            "Training Loss: 2.0456\n",
            "Percentage of correctly solved cubes: 31.50%\n",
            "Epoch 9\n",
            "Training Loss: 2.0335\n",
            "Percentage of correctly solved cubes: 31.60%\n",
            "Epoch 10\n",
            "Training Loss: 2.0298\n",
            "Percentage of correctly solved cubes: 31.60%\n",
            "Epoch 11\n",
            "Training Loss: 2.0288\n",
            "Percentage of correctly solved cubes: 31.60%\n",
            "Epoch 12\n",
            "Training Loss: 2.0285\n",
            "Percentage of correctly solved cubes: 31.70%\n",
            "Epoch 13\n",
            "Training Loss: 2.0284\n",
            "Percentage of correctly solved cubes: 31.80%\n",
            "Epoch 14\n",
            "Training Loss: 2.0284\n",
            "Percentage of correctly solved cubes: 31.70%\n",
            "Epoch 15\n",
            "Training Loss: 2.0284\n",
            "Percentage of correctly solved cubes: 31.70%\n",
            "Epoch 16\n",
            "Training Loss: 2.0284\n",
            "Percentage of correctly solved cubes: 31.70%\n",
            "Epoch 17\n",
            "Training Loss: 2.0284\n",
            "Percentage of correctly solved cubes: 31.70%\n",
            "Epoch 18\n",
            "Training Loss: 2.0284\n",
            "Percentage of correctly solved cubes: 31.70%\n",
            "Epoch 19\n",
            "Training Loss: 2.0284\n",
            "Percentage of correctly solved cubes: 31.70%\n"
          ]
        },
        {
          "output_type": "display_data",
          "data": {
            "text/plain": [
              "<Figure size 640x480 with 1 Axes>"
            ],
            "image/png": "[encoded data removed]"
          },
          "metadata": {}
        }
      ]
    },
    {
      "cell_type": "markdown",
      "source": [
        "### Scratchpad"
      ],
      "metadata": {
        "id": "GIePd9f9C0b5"
      }
    },
    {
      "cell_type": "code",
      "source": [
        "print(RUBIKS_CUBE)\n",
        "cube = RUBIKS_CUBE\n",
        "print(cube[:, :, 2].rot90(k=1))"
      ],
      "metadata": {
        "id": "YjycQNIV2mwz",
        "colab": {
          "base_uri": "https://localhost:8080/"
        },
        "outputId": "5fc683d2-3cc8-4717-989e-f964f69e6af6"
      },
      "execution_count": null,
      "outputs": [
        {
          "output_type": "stream",
          "name": "stdout",
          "text": [
            "tensor([[[ 1.,  2.,  3.],\n",
            "         [ 4.,  5.,  6.],\n",
            "         [ 7.,  8.,  9.]],\n",
            "\n",
            "        [[10., 11., 12.],\n",
            "         [13.,  0., 14.],\n",
            "         [15., 16., 17.]],\n",
            "\n",
            "        [[18., 19., 20.],\n",
            "         [21., 22., 23.],\n",
            "         [24., 25., 26.]]])\n",
            "tensor([[ 9., 17., 26.],\n",
            "        [ 6., 14., 23.],\n",
            "        [ 3., 12., 20.]])\n"
          ]
        }
      ]
    },
    {
      "cell_type": "markdown",
      "source": [],
      "metadata": {
        "id": "0uVVJaDSBxQs"
      }
    },
    {
      "cell_type": "code",
      "source": [
        "dataset = RubiksCubeDataset(num_samples=1000)\n",
        "dataloader = DataLoader(dataset, batch_size=32, shuffle=True)\n",
        "\n",
        "print(len(dataset))\n",
        "# Example usage\n",
        "for cubes, best_moves in dataloader:\n",
        "    # print(\"Cube State:\", cubes)\n",
        "    print(\"Best Move:\", best_moves)\n",
        "    break"
      ],
      "metadata": {
        "id": "0canZmkO2ys7",
        "colab": {
          "base_uri": "https://localhost:8080/"
        },
        "collapsed": true,
        "outputId": "4bd12a4d-7acc-430f-d1ef-7b3a3af3ae0f"
      },
      "execution_count": null,
      "outputs": [
        {
          "output_type": "stream",
          "name": "stdout",
          "text": [
            "1000\n",
            "Best Move: ('LP', 'F', 'RP', 'LP', 'LP', 'L', 'UP', 'LP', 'BP', 'D', 'FP', 'RP', 'B', 'L', 'U', 'D', 'L', 'R', 'LP', 'D', 'DP', 'RP', 'D', 'D', 'D', 'RP', 'D', 'D', 'RP', 'L', 'U', 'R')\n"
          ]
        }
      ]
    },
    {
      "cell_type": "code",
      "source": [
        "plt.imshow(net.weight.detach().numpy())\n"
      ],
      "metadata": {
        "id": "lKuhXy3ZxO4N",
        "colab": {
          "base_uri": "https://localhost:8080/",
          "height": 448
        },
        "outputId": "faede106-7069-47a9-f399-63553fdea7b8"
      },
      "execution_count": null,
      "outputs": [
        {
          "output_type": "execute_result",
          "data": {
            "text/plain": [
              "<matplotlib.image.AxesImage at 0x7a000a37feb0>"
            ]
          },
          "metadata": {},
          "execution_count": 10
        },
        {
          "output_type": "display_data",
          "data": {
            "text/plain": [
              "<Figure size 640x480 with 1 Axes>"
            ],
            "image/png": "[encoded data removed]"
          },
          "metadata": {}
        }
      ]
    },
    {
      "cell_type": "code",
      "source": [
        "pic = plt.imshow(RUBIKS_CUBE.reshape(3, 9), cmap='hsv')"
      ],
      "metadata": {
        "colab": {
          "base_uri": "https://localhost:8080/",
          "height": 226
        },
        "id": "jAr1tEYezGuS",
        "outputId": "3c3c6e4b-d44f-4835-9e28-31ddba5676f2"
      },
      "execution_count": null,
      "outputs": [
        {
          "output_type": "display_data",
          "data": {
            "text/plain": [
              "<Figure size 640x480 with 1 Axes>"
            ],
            "image/png": "[encoded data removed]"
          },
          "metadata": {}
        }
      ]
    },
    {
      "cell_type": "code",
      "source": [
        "moves = random.choices(move_types, k=MAX_MOVES)\n",
        "scrambled_cube = apply_moves(RUBIKS_CUBE, moves)\n",
        "pic = plt.imshow(scrambled_cube.reshape(3, 9), cmap='hsv')"
      ],
      "metadata": {
        "colab": {
          "base_uri": "https://localhost:8080/",
          "height": 226
        },
        "id": "uh7kl_qKzjt1",
        "outputId": "737024b1-d315-4113-ae47-87d83ad0940a"
      },
      "execution_count": null,
      "outputs": [
        {
          "output_type": "display_data",
          "data": {
            "text/plain": [
              "<Figure size 640x480 with 1 Axes>"
            ],
            "image/png": "[encoded data removed]"
          },
          "metadata": {}
        }
      ]
    },
    {
      "cell_type": "code",
      "source": [],
      "metadata": {
        "id": "_b4w9LViz5j0"
      },
      "execution_count": null,
      "outputs": []
    }
  ]
}