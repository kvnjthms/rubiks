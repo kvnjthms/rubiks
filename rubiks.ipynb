{
 "cells": [
  {
   "cell_type": "markdown",
   "metadata": {
    "id": "WPMnNT8gB0Ey"
   },
   "source": [
    "# Neural Rubik's cube solver"
   ]
  },
  {
   "cell_type": "markdown",
   "metadata": {
    "id": "5eIQmMGFCF97"
   },
   "source": [
    "### Rubik's cube definition as a 3-D tensor"
   ]
  },
  {
   "cell_type": "code",
   "execution_count": 92,
   "metadata": {
    "id": "Tb7_TMFEEhT7"
   },
   "outputs": [],
   "source": [
    "import torch\n",
    "\n",
    "# represent the solved cube as a 3-D tensor\n",
    "RUBIKS_CUBE = torch.Tensor([[[1, 2, 3],\n",
    "                             [4, 5, 6],\n",
    "                             [7, 8, 9]],\n",
    "\n",
    "                            [[10, 11, 12],\n",
    "                             [13, 0, 14],\n",
    "                             [15, 16, 17]],\n",
    "\n",
    "                            [[18, 19, 20],\n",
    "                             [21, 22, 23],\n",
    "                             [24, 25, 26]]])\n",
    "\n",
    "# scramble the cube up to this many moves\n",
    "MAX_MOVES = 10\n",
    "# make this many passes over the dataset\n",
    "NUM_EPOCHS = 100"
   ]
  },
  {
   "cell_type": "markdown",
   "metadata": {
    "id": "dAitn8BLCV14"
   },
   "source": [
    "### Cube representation with letters"
   ]
  },
  {
   "cell_type": "code",
   "execution_count": 93,
   "metadata": {
    "colab": {
     "base_uri": "https://localhost:8080/",
     "height": 35
    },
    "id": "1Tri56NzEm8z",
    "outputId": "f8f29ef9-3485-40b6-d6df-d464f677ccfb"
   },
   "outputs": [
    {
     "data": {
      "text/plain": [
       "'abcdefghijklmnopqrstuvwxyz'"
      ]
     },
     "execution_count": 93,
     "metadata": {},
     "output_type": "execute_result"
    }
   ],
   "source": [
    "import string\n",
    "import numpy as np\n",
    "\n",
    "def encode(cube):\n",
    "    alphabet = string.ascii_lowercase  # Use built-in alphabet\n",
    "    indices = cube[cube != 0] - 1\n",
    "    return \"\".join(np.array(list(alphabet))[indices.int()])\n",
    "encode(RUBIKS_CUBE)"
   ]
  },
  {
   "cell_type": "markdown",
   "metadata": {
    "id": "ZEjUwgA0CmD3"
   },
   "source": [
    "### Scrambling"
   ]
  },
  {
   "cell_type": "code",
   "execution_count": 94,
   "metadata": {
    "id": "hmHe8ws6EsZr"
   },
   "outputs": [],
   "source": [
    "import random\n",
    "\n",
    "move_types = [\"R\", \"RP\", \"L\", \"LP\", \"U\", \"UP\", \"D\", \"DP\", \"F\", \"FP\", \"B\", \"BP\"]\n",
    "\n",
    "def move(cube, move_type):\n",
    "    cube = cube.clone()\n",
    "    cube.squeeze_()\n",
    "    if move_type == \"R\":\n",
    "        cube[:, :, 2] = cube[:, :, 2].rot90(k=1)\n",
    "    elif move_type == \"RP\":\n",
    "        cube[:, :, 2] = cube[:, :, 2].rot90(k=3)\n",
    "    elif move_type == \"L\":\n",
    "        cube[:, :, 0] = cube[:, :, 0].rot90(k=3)\n",
    "    elif move_type == \"LP\":\n",
    "        cube[:, :, 0] = cube[:, :, 0].rot90(k=1)\n",
    "    elif move_type == \"U\":\n",
    "        cube[0, :, :] = cube[0, :, :].rot90(k=3)\n",
    "    elif move_type == \"UP\":\n",
    "        cube[0, :, :] = cube[0, :, :].rot90(k=1)\n",
    "    elif move_type == \"D\":\n",
    "        cube[2, :, :] = cube[2, :, :].rot90(k=1)\n",
    "    elif move_type == \"DP\":\n",
    "        cube[2, :, :] = cube[2, :, :].rot90(k=3)\n",
    "    elif move_type == \"F\":\n",
    "        cube[:, 2, :] = cube[:, 2, :].rot90(k=3)\n",
    "    elif move_type == \"FP\":\n",
    "        cube[:, 2, :] = cube[:, 2, :].rot90(k=1)\n",
    "    elif move_type == \"B\":\n",
    "        cube[:, 0, :] = cube[:, 0, :].rot90(k=1)\n",
    "    elif move_type == \"BP\":\n",
    "        cube[:, 0, :] = cube[:, 0, :].rot90(k=3)\n",
    "    return cube\n",
    "\n",
    "def apply_moves(cube, moves):\n",
    "    for m in moves:\n",
    "        cube = move(cube, m)\n",
    "    return cube\n",
    "\n",
    "def reverse_moves(moves):\n",
    "    # Turn clockwise moves into counter-clockwise and vice versa\n",
    "    # Also reverse the order of moves\n",
    "    result = []\n",
    "    for m in moves:\n",
    "      result.append(reverse_move(m))\n",
    "    return list(reversed(result))\n",
    "\n",
    "def reverse_move(m):\n",
    "    # Turn clockwise moves into counter-clockwise and vice versa\n",
    "    if m.endswith(\"P\"):\n",
    "      return  m[0]\n",
    "    return m + \"P\"\n"
   ]
  },
  {
   "cell_type": "markdown",
   "metadata": {
    "id": "x3j5wd4nDELE"
   },
   "source": [
    "### Unit tests"
   ]
  },
  {
   "cell_type": "code",
   "execution_count": 95,
   "metadata": {
    "colab": {
     "base_uri": "https://localhost:8080/"
    },
    "id": "Bo0-GB-WxeTd",
    "outputId": "6f6e0575-3536-4b01-fc13-5cc8f5ab59fe"
   },
   "outputs": [
    {
     "name": "stdout",
     "output_type": "stream",
     "text": [
      "OK\n",
      "OK\n",
      "OK\n",
      "OK\n",
      "OK\n",
      "OK\n",
      "OK\n",
      "OK\n",
      "OK\n",
      "OK\n",
      "OK\n",
      "OK\n",
      "unscramble OK\n"
     ]
    }
   ],
   "source": [
    "def test():\n",
    "  encoded_cube = encode(move(RUBIKS_CUBE, \"R\"))\n",
    "  if encoded_cube == \"abideqghzjkfmnopwrscuvlxyt\":\n",
    "    print(\"OK\")\n",
    "  else:\n",
    "    print(\"NOT OK\", encoded_cube)\n",
    "\n",
    "  encoded_cube = encode(move(RUBIKS_CUBE, \"RP\"))\n",
    "  if encoded_cube == \"abtdelghcjkwmnopfrszuvqxyi\":\n",
    "    print(\"OK\")\n",
    "  else:\n",
    "    print(\"NOT OK\", encoded_cube)\n",
    "\n",
    "  encoded_cube = encode(move(RUBIKS_CUBE, \"L\"))\n",
    "  if encoded_cube == \"rbcjefahiuklmndpqxstovwgyz\":\n",
    "    print(\"OK\")\n",
    "  else:\n",
    "    print(\"NOT OK\", encoded_cube)\n",
    "\n",
    "  encoded_cube = encode(move(RUBIKS_CUBE, \"LP\"))\n",
    "  if encoded_cube == \"gbcoefxhidklmnupqastjvwryz\":\n",
    "    print(\"OK\")\n",
    "  else:\n",
    "    print(\"NOT OK\", encoded_cube)\n",
    "\n",
    "  encoded_cube = encode(move(RUBIKS_CUBE, \"U\"))\n",
    "  if encoded_cube == \"gdahebifcjklmnopqrstuvwxyz\":\n",
    "    print(\"OK\")\n",
    "  else:\n",
    "    print(\"NOT OK\", encoded_cube)\n",
    "\n",
    "  encoded_cube = encode(move(RUBIKS_CUBE, \"UP\"))\n",
    "  if encoded_cube == \"cfibehadgjklmnopqrstuvwxyz\":\n",
    "    print(\"OK\")\n",
    "  else:\n",
    "    print(\"NOT OK\", encoded_cube)\n",
    "\n",
    "  encoded_cube = encode(move(RUBIKS_CUBE, \"D\"))\n",
    "  if encoded_cube == \"abcdefghijklmnopqtwzsvyrux\":\n",
    "    print(\"OK\")\n",
    "  else:\n",
    "    print(\"NOT OK\", encoded_cube)\n",
    "\n",
    "  encoded_cube = encode(move(RUBIKS_CUBE, \"DP\"))\n",
    "  if encoded_cube == \"abcdefghijklmnopqxuryvszwt\":\n",
    "    print(\"OK\")\n",
    "  else:\n",
    "    print(\"NOT OK\", encoded_cube)\n",
    "\n",
    "  encoded_cube = encode(move(RUBIKS_CUBE, \"F\"))\n",
    "  if encoded_cube == \"abcdefxogjklmnyphrstuvwzqi\":\n",
    "    print(\"OK\")\n",
    "  else:\n",
    "    print(\"NOT OK\", encoded_cube)\n",
    "\n",
    "  encoded_cube = encode(move(RUBIKS_CUBE, \"FP\"))\n",
    "  if encoded_cube == \"abcdefiqzjklmnhpyrstuvwgox\":\n",
    "    print(\"OK\")\n",
    "  else:\n",
    "    print(\"NOT OK\", encoded_cube)\n",
    "\n",
    "  encoded_cube = encode(move(RUBIKS_CUBE, \"B\"))\n",
    "  if encoded_cube == \"cltdefghibksmnopqajruvwxyz\":\n",
    "    print(\"OK\")\n",
    "  else:\n",
    "    print(\"NOT OK\", encoded_cube)\n",
    "\n",
    "  encoded_cube = encode(move(RUBIKS_CUBE, \"BP\"))\n",
    "  if encoded_cube == \"rjadefghiskbmnopqtlcuvwxyz\":\n",
    "    print(\"OK\")\n",
    "  else:\n",
    "    print(\"NOT OK\", encoded_cube)\n",
    "\n",
    "def test_scramble():\n",
    "  moves = random.choices(move_types, k=MAX_MOVES)\n",
    "  scrambled_cube = apply_moves(RUBIKS_CUBE, moves)\n",
    "  reversed_moves = reverse_moves(moves)\n",
    "  unscrambled_cube = apply_moves(scrambled_cube, reversed_moves)\n",
    "  if encode(unscrambled_cube) == encode(RUBIKS_CUBE):\n",
    "    print(\"unscramble OK\")\n",
    "  else:\n",
    "    print(\"unscramble NOT OK\")\n",
    "\n",
    "test()\n",
    "test_scramble()"
   ]
  },
  {
   "cell_type": "markdown",
   "metadata": {
    "id": "7mcDZfoXt0do"
   },
   "source": [
    "## Data Loader\n"
   ]
  },
  {
   "cell_type": "code",
   "execution_count": 96,
   "metadata": {
    "id": "LtkHvp2Ot6Oa"
   },
   "outputs": [],
   "source": [
    "from torch.utils.data import Dataset, DataLoader\n",
    "\n",
    "class RubiksCubeDataset(Dataset):\n",
    "    def __init__(self, num_samples):\n",
    "        self.num_samples = num_samples\n",
    "        self.max_moves = MAX_MOVES\n",
    "        self.data = self._generate_data()\n",
    "\n",
    "    def _generate_data(self):\n",
    "        data = []\n",
    "        for _ in range(self.num_samples):\n",
    "            cube = RUBIKS_CUBE.clone()\n",
    "            moves = random.choices(move_types, k=random.randint(1, self.max_moves))\n",
    "            scrambled_cube = apply_moves(cube, moves)\n",
    "            # add the reverse of the last move as the best move\n",
    "            data.append((scrambled_cube, reverse_move(moves[-1])))\n",
    "        return data\n",
    "\n",
    "    def __len__(self):\n",
    "        return len(self.data)\n",
    "\n",
    "    def __getitem__(self, idx):\n",
    "        return self.data[idx]\n"
   ]
  },
  {
   "cell_type": "markdown",
   "metadata": {
    "id": "uSgxE2ZHS-Sh"
   },
   "source": [
    "## Neural Network"
   ]
  },
  {
   "cell_type": "code",
   "execution_count": 97,
   "metadata": {
    "id": "0DDiVTL-2pDX"
   },
   "outputs": [],
   "source": [
    "import torch.nn.functional as F\n",
    "class RubiksSolverNetwork():\n",
    "    def __init__(self):\n",
    "        # Create separate datasets for training and evaluation\n",
    "        self.train_dataset = RubiksCubeDataset(num_samples=100000)\n",
    "        self.eval_dataset = RubiksCubeDataset(num_samples=1000)\n",
    "\n",
    "        # Create data loaders\n",
    "        self.train_loader = DataLoader(self.train_dataset, batch_size=32)\n",
    "        self.eval_loader = DataLoader(self.eval_dataset, batch_size=1)\n",
    "\n",
    "        # Define a Linear layer for 27 input features and 12 output moves\n",
    "        # self.weight starts as a matrix with uniform random numbers between 0 and 1\n",
    "        self.weight1 = torch.rand((27, 128), requires_grad=True)\n",
    "        self.weight2 = torch.rand((128, 12), requires_grad=True)\n",
    "\n",
    "    def train(self):\n",
    "        losses = []\n",
    "        for cubes, best_moves in self.train_loader:\n",
    "            # cubes is of shape 32x3x3x3\n",
    "            # Convert moves to indices. R -> 0, RP -> 1, L -> 2 and so on.\n",
    "            best_moves = torch.tensor([move_types.index(m) for m in best_moves])\n",
    "            # Forward pass\n",
    "            output = self.forward(cubes)\n",
    "            # output is of shape 32x12\n",
    "\n",
    "            # cross-entropy loss\n",
    "            log_probs = torch.log_softmax(output, dim=1)  # Log probabilities\n",
    "            # at this point, log_probs is a matrix of shape 32x12\n",
    "            best_log_probs = log_probs[range(len(best_moves)), best_moves]\n",
    "            # best_log_probs is a column vector with 32 rows\n",
    "            loss = -best_log_probs.mean()  # Negative log-likelihood\n",
    "\n",
    "            # Compute gradients using autograd\n",
    "            loss.backward()\n",
    "\n",
    "            # Now do gradient descent to optimize the parameters\n",
    "            self.weight1.data -= 0.0001 * self.weight1.grad  # Manual gradient update\n",
    "            self.weight1.grad.zero_()  # Reset gradients\n",
    "            self.weight2.data -= 0.0001 * self.weight2.grad  # Manual gradient update\n",
    "            self.weight2.grad.zero_()  # Reset gradients\n",
    "\n",
    "            losses.append(loss.item())\n",
    "        print(f\"Training Loss: {np.mean(losses):.4f}\")\n",
    "\n",
    "    def eval(self):\n",
    "        correct = 0\n",
    "        total = 0\n",
    "\n",
    "        for cube, _ in self.eval_loader:  # batch_size=1 ensures cube has shape (1, 3, 3, 3)\n",
    "            for _ in range(2 * MAX_MOVES):  # Try up to these many moves\n",
    "                output = self.forward(cube)\n",
    "                predicted_move_index = torch.argmax(output, dim=1).item()\n",
    "                predicted_move = move_types[predicted_move_index]\n",
    "\n",
    "                # Apply the predicted move to the cube\n",
    "                cube = move(cube, predicted_move)\n",
    "\n",
    "                # the returned cube has shape (3, 3, 3)\n",
    "\n",
    "                # Check if the cube is solved\n",
    "                if torch.equal(cube, RUBIKS_CUBE):\n",
    "                    correct += 1\n",
    "                    break\n",
    "                # add batch dimension to make the shape (1, 3, 3, 3)\n",
    "                # this is because forward() expects a batch dimension.\n",
    "                cube.unsqueeze_(0)\n",
    "\n",
    "            total += 1\n",
    "        accuracy = 100 * correct / total\n",
    "        print(f\"Percentage of correctly solved cubes: {accuracy:.2f}%\")\n",
    "        return accuracy\n",
    "\n",
    "    def forward(self, x):\n",
    "        # Reshape to make it compatible for matrix multiplication\n",
    "        x = x.view(x.size(0), -1)  # Reshape to (batch_size, 27)\n",
    "        # Forward pass through the linear layer\n",
    "        # This multiplies x with the weight matrix of shape (27, 12)\n",
    "        x=x @ self.weight1\n",
    "        x=F.relu(x)\n",
    "        return x @ self.weight2\n",
    "\n",
    "# Instantiate the neural network\n",
    "net = RubiksSolverNetwork()"
   ]
  },
  {
   "cell_type": "markdown",
   "metadata": {
    "id": "zAWqMaHpTGZK"
   },
   "source": [
    "# Training & Eval"
   ]
  },
  {
   "cell_type": "code",
   "execution_count": 98,
   "metadata": {
    "colab": {
     "base_uri": "https://localhost:8080/",
     "height": 1000
    },
    "id": "971ehXvdTI6Q",
    "outputId": "020b7e56-badc-49bb-d840-95e9ac259ae3",
    "scrolled": true
   },
   "outputs": [
    {
     "name": "stdout",
     "output_type": "stream",
     "text": [
      "Epoch 0\n",
      "Training Loss: 86.0670\n",
      "Percentage of correctly solved cubes: 8.90%\n",
      "Epoch 1\n",
      "Training Loss: 71.9699\n",
      "Percentage of correctly solved cubes: 4.40%\n",
      "Epoch 2\n",
      "Training Loss: 65.2666\n",
      "Percentage of correctly solved cubes: 9.10%\n",
      "Epoch 3\n",
      "Training Loss: 61.2437\n",
      "Percentage of correctly solved cubes: 2.60%\n",
      "Epoch 4\n",
      "Training Loss: 56.3772\n",
      "Percentage of correctly solved cubes: 4.40%\n",
      "Epoch 5\n",
      "Training Loss: 54.5923\n",
      "Percentage of correctly solved cubes: 5.80%\n",
      "Epoch 6\n",
      "Training Loss: 51.0058\n",
      "Percentage of correctly solved cubes: 7.80%\n",
      "Epoch 7\n",
      "Training Loss: 48.0451\n",
      "Percentage of correctly solved cubes: 3.10%\n",
      "Epoch 8\n",
      "Training Loss: 45.7508\n",
      "Percentage of correctly solved cubes: 5.20%\n",
      "Epoch 9\n",
      "Training Loss: 43.3608\n",
      "Percentage of correctly solved cubes: 2.80%\n",
      "Epoch 10\n",
      "Training Loss: 40.9378\n",
      "Percentage of correctly solved cubes: 6.00%\n",
      "Epoch 11\n",
      "Training Loss: 38.7680\n",
      "Percentage of correctly solved cubes: 7.20%\n",
      "Epoch 12\n",
      "Training Loss: 36.4886\n",
      "Percentage of correctly solved cubes: 6.60%\n",
      "Epoch 13\n",
      "Training Loss: 34.8467\n",
      "Percentage of correctly solved cubes: 5.50%\n",
      "Epoch 14\n",
      "Training Loss: 32.7391\n",
      "Percentage of correctly solved cubes: 4.40%\n",
      "Epoch 15\n",
      "Training Loss: 31.2407\n",
      "Percentage of correctly solved cubes: 6.80%\n",
      "Epoch 16\n",
      "Training Loss: 29.2804\n",
      "Percentage of correctly solved cubes: 6.10%\n",
      "Epoch 17\n",
      "Training Loss: 28.1438\n",
      "Percentage of correctly solved cubes: 10.20%\n",
      "Epoch 18\n",
      "Training Loss: 26.3782\n",
      "Percentage of correctly solved cubes: 8.50%\n",
      "Epoch 19\n",
      "Training Loss: 25.0336\n",
      "Percentage of correctly solved cubes: 9.40%\n",
      "Epoch 20\n",
      "Training Loss: 23.7517\n",
      "Percentage of correctly solved cubes: 9.30%\n",
      "Epoch 21\n",
      "Training Loss: 22.3173\n",
      "Percentage of correctly solved cubes: 4.40%\n",
      "Epoch 22\n",
      "Training Loss: 20.8772\n",
      "Percentage of correctly solved cubes: 7.80%\n",
      "Epoch 23\n",
      "Training Loss: 20.1097\n",
      "Percentage of correctly solved cubes: 7.00%\n",
      "Epoch 24\n",
      "Training Loss: 18.8142\n",
      "Percentage of correctly solved cubes: 9.80%\n",
      "Epoch 25\n",
      "Training Loss: 17.9550\n",
      "Percentage of correctly solved cubes: 4.40%\n",
      "Epoch 26\n",
      "Training Loss: 16.9548\n",
      "Percentage of correctly solved cubes: 8.10%\n",
      "Epoch 27\n",
      "Training Loss: 16.0537\n",
      "Percentage of correctly solved cubes: 9.50%\n",
      "Epoch 28\n",
      "Training Loss: 15.0784\n",
      "Percentage of correctly solved cubes: 3.90%\n",
      "Epoch 29\n",
      "Training Loss: 14.2925\n",
      "Percentage of correctly solved cubes: 7.40%\n",
      "Epoch 30\n",
      "Training Loss: 13.5673\n",
      "Percentage of correctly solved cubes: 5.90%\n",
      "Epoch 31\n",
      "Training Loss: 12.8451\n",
      "Percentage of correctly solved cubes: 3.80%\n",
      "Epoch 32\n",
      "Training Loss: 12.2604\n",
      "Percentage of correctly solved cubes: 7.20%\n",
      "Epoch 33\n",
      "Training Loss: 11.4889\n",
      "Percentage of correctly solved cubes: 6.30%\n",
      "Epoch 34\n",
      "Training Loss: 10.9061\n",
      "Percentage of correctly solved cubes: 11.20%\n",
      "Epoch 35\n",
      "Training Loss: 10.3826\n",
      "Percentage of correctly solved cubes: 8.10%\n",
      "Epoch 36\n",
      "Training Loss: 9.8175\n",
      "Percentage of correctly solved cubes: 6.40%\n",
      "Epoch 37\n",
      "Training Loss: 9.2903\n",
      "Percentage of correctly solved cubes: 6.50%\n",
      "Epoch 38\n",
      "Training Loss: 8.7286\n",
      "Percentage of correctly solved cubes: 10.10%\n",
      "Epoch 39\n",
      "Training Loss: 8.3953\n",
      "Percentage of correctly solved cubes: 2.60%\n",
      "Epoch 40\n",
      "Training Loss: 7.9206\n",
      "Percentage of correctly solved cubes: 5.20%\n",
      "Epoch 41\n",
      "Training Loss: 7.5472\n",
      "Percentage of correctly solved cubes: 5.50%\n",
      "Epoch 42\n",
      "Training Loss: 7.1313\n",
      "Percentage of correctly solved cubes: 12.40%\n",
      "Epoch 43\n",
      "Training Loss: 6.7518\n",
      "Percentage of correctly solved cubes: 11.80%\n",
      "Epoch 44\n",
      "Training Loss: 6.4317\n",
      "Percentage of correctly solved cubes: 7.90%\n",
      "Epoch 45\n",
      "Training Loss: 6.1257\n",
      "Percentage of correctly solved cubes: 13.60%\n",
      "Epoch 46\n",
      "Training Loss: 5.8642\n",
      "Percentage of correctly solved cubes: 11.90%\n",
      "Epoch 47\n",
      "Training Loss: 5.5469\n",
      "Percentage of correctly solved cubes: 5.60%\n",
      "Epoch 48\n",
      "Training Loss: 5.3800\n",
      "Percentage of correctly solved cubes: 10.80%\n",
      "Epoch 49\n",
      "Training Loss: 5.0704\n",
      "Percentage of correctly solved cubes: 4.80%\n",
      "Epoch 50\n",
      "Training Loss: 4.8512\n",
      "Percentage of correctly solved cubes: 8.40%\n",
      "Epoch 51\n",
      "Training Loss: 4.6628\n",
      "Percentage of correctly solved cubes: 13.90%\n",
      "Epoch 52\n",
      "Training Loss: 4.4913\n",
      "Percentage of correctly solved cubes: 6.00%\n",
      "Epoch 53\n",
      "Training Loss: 4.3270\n",
      "Percentage of correctly solved cubes: 5.20%\n",
      "Epoch 54\n",
      "Training Loss: 4.1528\n",
      "Percentage of correctly solved cubes: 12.70%\n",
      "Epoch 55\n",
      "Training Loss: 4.0092\n",
      "Percentage of correctly solved cubes: 8.30%\n",
      "Epoch 56\n",
      "Training Loss: 3.9010\n",
      "Percentage of correctly solved cubes: 11.50%\n",
      "Epoch 57\n",
      "Training Loss: 3.7771\n",
      "Percentage of correctly solved cubes: 10.70%\n",
      "Epoch 58\n",
      "Training Loss: 3.6534\n",
      "Percentage of correctly solved cubes: 9.60%\n",
      "Epoch 59\n",
      "Training Loss: 3.5554\n",
      "Percentage of correctly solved cubes: 10.30%\n",
      "Epoch 60\n",
      "Training Loss: 3.4672\n",
      "Percentage of correctly solved cubes: 6.40%\n",
      "Epoch 61\n",
      "Training Loss: 3.3725\n",
      "Percentage of correctly solved cubes: 4.90%\n",
      "Epoch 62\n",
      "Training Loss: 3.3004\n",
      "Percentage of correctly solved cubes: 5.20%\n",
      "Epoch 63\n",
      "Training Loss: 3.2252\n",
      "Percentage of correctly solved cubes: 5.20%\n",
      "Epoch 64\n",
      "Training Loss: 3.1594\n",
      "Percentage of correctly solved cubes: 5.20%\n",
      "Epoch 65\n",
      "Training Loss: 3.0975\n",
      "Percentage of correctly solved cubes: 4.60%\n",
      "Epoch 66\n",
      "Training Loss: 3.0409\n",
      "Percentage of correctly solved cubes: 5.10%\n",
      "Epoch 67\n",
      "Training Loss: 2.9861\n",
      "Percentage of correctly solved cubes: 5.20%\n",
      "Epoch 68\n",
      "Training Loss: 2.9368\n",
      "Percentage of correctly solved cubes: 5.20%\n",
      "Epoch 69\n",
      "Training Loss: 2.8912\n",
      "Percentage of correctly solved cubes: 5.10%\n",
      "Epoch 70\n",
      "Training Loss: 2.8491\n",
      "Percentage of correctly solved cubes: 5.10%\n",
      "Epoch 71\n",
      "Training Loss: 2.8108\n",
      "Percentage of correctly solved cubes: 5.10%\n",
      "Epoch 72\n",
      "Training Loss: 2.7753\n",
      "Percentage of correctly solved cubes: 5.10%\n",
      "Epoch 73\n",
      "Training Loss: 2.7420\n",
      "Percentage of correctly solved cubes: 5.10%\n",
      "Epoch 74\n",
      "Training Loss: 2.7107\n",
      "Percentage of correctly solved cubes: 5.10%\n",
      "Epoch 75\n",
      "Training Loss: 2.6813\n",
      "Percentage of correctly solved cubes: 5.10%\n",
      "Epoch 76\n",
      "Training Loss: 2.6537\n",
      "Percentage of correctly solved cubes: 6.10%\n",
      "Epoch 77\n",
      "Training Loss: 2.6280\n",
      "Percentage of correctly solved cubes: 6.30%\n",
      "Epoch 78\n",
      "Training Loss: 2.6041\n",
      "Percentage of correctly solved cubes: 7.70%\n",
      "Epoch 79\n",
      "Training Loss: 2.5820\n",
      "Percentage of correctly solved cubes: 9.60%\n",
      "Epoch 80\n",
      "Training Loss: 2.5614\n",
      "Percentage of correctly solved cubes: 9.70%\n",
      "Epoch 81\n",
      "Training Loss: 2.5422\n",
      "Percentage of correctly solved cubes: 9.80%\n",
      "Epoch 82\n",
      "Training Loss: 2.5243\n",
      "Percentage of correctly solved cubes: 9.60%\n",
      "Epoch 83\n",
      "Training Loss: 2.5074\n",
      "Percentage of correctly solved cubes: 10.00%\n",
      "Epoch 84\n",
      "Training Loss: 2.4904\n",
      "Percentage of correctly solved cubes: 10.30%\n",
      "Epoch 85\n",
      "Training Loss: 2.4750\n",
      "Percentage of correctly solved cubes: 10.30%\n",
      "Epoch 86\n",
      "Training Loss: 2.4611\n",
      "Percentage of correctly solved cubes: 9.90%\n",
      "Epoch 87\n",
      "Training Loss: 2.4481\n",
      "Percentage of correctly solved cubes: 9.90%\n",
      "Epoch 88\n",
      "Training Loss: 2.4359\n",
      "Percentage of correctly solved cubes: 10.40%\n",
      "Epoch 89\n",
      "Training Loss: 2.4244\n",
      "Percentage of correctly solved cubes: 10.40%\n",
      "Epoch 90\n",
      "Training Loss: 2.4136\n",
      "Percentage of correctly solved cubes: 10.50%\n",
      "Epoch 91\n",
      "Training Loss: 2.4034\n",
      "Percentage of correctly solved cubes: 10.90%\n",
      "Epoch 92\n",
      "Training Loss: 2.3938\n",
      "Percentage of correctly solved cubes: 10.90%\n",
      "Epoch 93\n",
      "Training Loss: 2.3847\n",
      "Percentage of correctly solved cubes: 10.90%\n",
      "Epoch 94\n",
      "Training Loss: 2.3762\n",
      "Percentage of correctly solved cubes: 11.20%\n",
      "Epoch 95\n",
      "Training Loss: 2.3681\n",
      "Percentage of correctly solved cubes: 11.20%\n",
      "Epoch 96\n",
      "Training Loss: 2.3604\n",
      "Percentage of correctly solved cubes: 11.40%\n",
      "Epoch 97\n",
      "Training Loss: 2.3531\n",
      "Percentage of correctly solved cubes: 11.40%\n",
      "Epoch 98\n",
      "Training Loss: 2.3454\n",
      "Percentage of correctly solved cubes: 11.40%\n",
      "Epoch 99\n",
      "Training Loss: 2.3378\n",
      "Percentage of correctly solved cubes: 12.00%\n"
     ]
    },
    {
     "data": {
      "image/png": "[encoded data removed]",
      "text/plain": [
       "<Figure size 640x480 with 1 Axes>"
      ]
     },
     "metadata": {},
     "output_type": "display_data"
    }
   ],
   "source": [
    "import matplotlib.pyplot as plt\n",
    "\n",
    "eval_accuracies = []\n",
    "for epoch in range(NUM_EPOCHS):\n",
    "  print(\"Epoch\", epoch)\n",
    "  net.train()\n",
    "  acc = net.eval()\n",
    "  eval_accuracies.append(acc)\n",
    "\n",
    "# plot accuracies\n",
    "plt.plot(eval_accuracies)\n",
    "plt.xlabel(\"Epoch\")\n",
    "plt.ylabel(\"Accuracy\")\n",
    "plt.show()\n"
   ]
  },
  {
   "cell_type": "markdown",
   "metadata": {
    "id": "GIePd9f9C0b5"
   },
   "source": [
    "### Scratchpad"
   ]
  },
  {
   "cell_type": "code",
   "execution_count": 99,
   "metadata": {
    "colab": {
     "base_uri": "https://localhost:8080/"
    },
    "id": "YjycQNIV2mwz",
    "outputId": "5fc683d2-3cc8-4717-989e-f964f69e6af6"
   },
   "outputs": [
    {
     "name": "stdout",
     "output_type": "stream",
     "text": [
      "tensor([[[ 1.,  2.,  3.],\n",
      "         [ 4.,  5.,  6.],\n",
      "         [ 7.,  8.,  9.]],\n",
      "\n",
      "        [[10., 11., 12.],\n",
      "         [13.,  0., 14.],\n",
      "         [15., 16., 17.]],\n",
      "\n",
      "        [[18., 19., 20.],\n",
      "         [21., 22., 23.],\n",
      "         [24., 25., 26.]]])\n",
      "tensor([[ 9., 17., 26.],\n",
      "        [ 6., 14., 23.],\n",
      "        [ 3., 12., 20.]])\n"
     ]
    }
   ],
   "source": [
    "print(RUBIKS_CUBE)\n",
    "cube = RUBIKS_CUBE\n",
    "print(cube[:, :, 2].rot90(k=1))"
   ]
  },
  {
   "cell_type": "markdown",
   "metadata": {
    "id": "0uVVJaDSBxQs"
   },
   "source": []
  },
  {
   "cell_type": "code",
   "execution_count": 100,
   "metadata": {
    "colab": {
     "base_uri": "https://localhost:8080/"
    },
    "id": "0canZmkO2ys7",
    "outputId": "4bd12a4d-7acc-430f-d1ef-7b3a3af3ae0f"
   },
   "outputs": [
    {
     "name": "stdout",
     "output_type": "stream",
     "text": [
      "1000\n",
      "Best Move: ('BP', 'FP', 'RP', 'U', 'R', 'F', 'B', 'BP', 'UP', 'DP', 'F', 'D', 'B', 'F', 'BP', 'FP', 'F', 'LP', 'DP', 'UP', 'L', 'UP', 'D', 'FP', 'F', 'U', 'BP', 'LP', 'D', 'BP', 'UP', 'U')\n"
     ]
    }
   ],
   "source": [
    "dataset = RubiksCubeDataset(num_samples=1000)\n",
    "dataloader = DataLoader(dataset, batch_size=32, shuffle=True)\n",
    "\n",
    "print(len(dataset))\n",
    "# Example usage\n",
    "for cubes, best_moves in dataloader:\n",
    "    # print(\"Cube State:\", cubes)\n",
    "    print(\"Best Move:\", best_moves)\n",
    "    break"
   ]
  },
  {
   "cell_type": "code",
   "execution_count": 101,
   "metadata": {
    "colab": {
     "base_uri": "https://localhost:8080/",
     "height": 448
    },
    "id": "lKuhXy3ZxO4N",
    "outputId": "faede106-7069-47a9-f399-63553fdea7b8"
   },
   "outputs": [
    {
     "data": {
      "text/plain": [
       "<matplotlib.image.AxesImage at 0x14262f610>"
      ]
     },
     "execution_count": 101,
     "metadata": {},
     "output_type": "execute_result"
    },
    {
     "data": {
      "image/png": "[encoded data removed]",
      "text/plain": [
       "<Figure size 640x480 with 1 Axes>"
      ]
     },
     "metadata": {},
     "output_type": "display_data"
    }
   ],
   "source": [
    "plt.imshow(net.weight2.detach().numpy())\n"
   ]
  },
  {
   "cell_type": "code",
   "execution_count": 102,
   "metadata": {
    "colab": {
     "base_uri": "https://localhost:8080/",
     "height": 226
    },
    "id": "jAr1tEYezGuS",
    "outputId": "3c3c6e4b-d44f-4835-9e28-31ddba5676f2"
   },
   "outputs": [
    {
     "data": {
      "image/png": "[encoded data removed]",
      "text/plain": [
       "<Figure size 640x480 with 1 Axes>"
      ]
     },
     "metadata": {},
     "output_type": "display_data"
    }
   ],
   "source": [
    "pic = plt.imshow(RUBIKS_CUBE.reshape(3, 9), cmap='hsv')"
   ]
  },
  {
   "cell_type": "code",
   "execution_count": 103,
   "metadata": {
    "colab": {
     "base_uri": "https://localhost:8080/",
     "height": 226
    },
    "id": "uh7kl_qKzjt1",
    "outputId": "737024b1-d315-4113-ae47-87d83ad0940a"
   },
   "outputs": [
    {
     "data": {
      "image/png": "[encoded data removed]",
      "text/plain": [
       "<Figure size 640x480 with 1 Axes>"
      ]
     },
     "metadata": {},
     "output_type": "display_data"
    }
   ],
   "source": [
    "moves = random.choices(move_types, k=MAX_MOVES)\n",
    "scrambled_cube = apply_moves(RUBIKS_CUBE, moves)\n",
    "pic = plt.imshow(scrambled_cube.reshape(3, 9), cmap='hsv')"
   ]
  },
  {
   "cell_type": "code",
   "execution_count": null,
   "metadata": {
    "id": "_b4w9LViz5j0"
   },
   "outputs": [],
   "source": []
  }
 ],
 "metadata": {
  "colab": {
   "collapsed_sections": [
    "x3j5wd4nDELE"
   ],
   "provenance": []
  },
  "kernelspec": {
   "display_name": "Python 3 (ipykernel)",
   "language": "python",
   "name": "python3"
  },
  "language_info": {
   "codemirror_mode": {
    "name": "ipython",
    "version": 3
   },
   "file_extension": ".py",
   "mimetype": "text/x-python",
   "name": "python",
   "nbconvert_exporter": "python",
   "pygments_lexer": "ipython3",
   "version": "3.9.6"
  }
 },
 "nbformat": 4,
 "nbformat_minor": 4
}
