{
 "cells": [
  {
   "cell_type": "markdown",
   "metadata": {
    "id": "WPMnNT8gB0Ey"
   },
   "source": [
    "# Neural Rubik's cube solver"
   ]
  },
  {
   "cell_type": "markdown",
   "metadata": {
    "id": "5eIQmMGFCF97"
   },
   "source": [
    "### Rubik's cube definition as a 3-D tensor"
   ]
  },
  {
   "cell_type": "code",
   "execution_count": 6,
   "metadata": {
    "id": "Tb7_TMFEEhT7"
   },
   "outputs": [],
   "source": [
    "import torch\n",
    "\n",
    "# represent the solved cube as a 3-D tensor\n",
    "RUBIKS_CUBE = torch.Tensor([[[1, 2, 3],\n",
    "                             [4, 5, 6],\n",
    "                             [7, 8, 9]],\n",
    "\n",
    "                            [[10, 11, 12],\n",
    "                             [13, 0, 14],\n",
    "                             [15, 16, 17]],\n",
    "\n",
    "                            [[18, 19, 20],\n",
    "                             [21, 22, 23],\n",
    "                             [24, 25, 26]]])\n",
    "\n",
    "# scramble the cube up to this many moves\n",
    "MAX_MOVES = 10\n",
    "# make this many passes over the dataset\n",
    "NUM_EPOCHS = 100"
   ]
  },
  {
   "cell_type": "markdown",
   "metadata": {
    "id": "dAitn8BLCV14"
   },
   "source": [
    "### Cube representation with letters"
   ]
  },
  {
   "cell_type": "code",
   "execution_count": 7,
   "metadata": {
    "colab": {
     "base_uri": "https://localhost:8080/",
     "height": 35
    },
    "id": "1Tri56NzEm8z",
    "outputId": "f8f29ef9-3485-40b6-d6df-d464f677ccfb"
   },
   "outputs": [
    {
     "data": {
      "text/plain": [
       "'abcdefghijklmnopqrstuvwxyz'"
      ]
     },
     "execution_count": 7,
     "metadata": {},
     "output_type": "execute_result"
    }
   ],
   "source": [
    "import string\n",
    "import numpy as np\n",
    "\n",
    "def encode(cube):\n",
    "    alphabet = string.ascii_lowercase  # Use built-in alphabet\n",
    "    indices = cube[cube != 0] - 1\n",
    "    return \"\".join(np.array(list(alphabet))[indices.int()])\n",
    "encode(RUBIKS_CUBE)"
   ]
  },
  {
   "cell_type": "markdown",
   "metadata": {
    "id": "ZEjUwgA0CmD3"
   },
   "source": [
    "### Scrambling"
   ]
  },
  {
   "cell_type": "code",
   "execution_count": 8,
   "metadata": {
    "id": "hmHe8ws6EsZr"
   },
   "outputs": [],
   "source": [
    "import random\n",
    "\n",
    "move_types = [\"R\", \"RP\", \"L\", \"LP\", \"U\", \"UP\", \"D\", \"DP\", \"F\", \"FP\", \"B\", \"BP\"]\n",
    "\n",
    "def move(cube, move_type):\n",
    "    cube = cube.clone()\n",
    "    cube.squeeze_()\n",
    "    if move_type == \"R\":\n",
    "        cube[:, :, 2] = cube[:, :, 2].rot90(k=1)\n",
    "    elif move_type == \"RP\":\n",
    "        cube[:, :, 2] = cube[:, :, 2].rot90(k=3)\n",
    "    elif move_type == \"L\":\n",
    "        cube[:, :, 0] = cube[:, :, 0].rot90(k=3)\n",
    "    elif move_type == \"LP\":\n",
    "        cube[:, :, 0] = cube[:, :, 0].rot90(k=1)\n",
    "    elif move_type == \"U\":\n",
    "        cube[0, :, :] = cube[0, :, :].rot90(k=3)\n",
    "    elif move_type == \"UP\":\n",
    "        cube[0, :, :] = cube[0, :, :].rot90(k=1)\n",
    "    elif move_type == \"D\":\n",
    "        cube[2, :, :] = cube[2, :, :].rot90(k=1)\n",
    "    elif move_type == \"DP\":\n",
    "        cube[2, :, :] = cube[2, :, :].rot90(k=3)\n",
    "    elif move_type == \"F\":\n",
    "        cube[:, 2, :] = cube[:, 2, :].rot90(k=3)\n",
    "    elif move_type == \"FP\":\n",
    "        cube[:, 2, :] = cube[:, 2, :].rot90(k=1)\n",
    "    elif move_type == \"B\":\n",
    "        cube[:, 0, :] = cube[:, 0, :].rot90(k=1)\n",
    "    elif move_type == \"BP\":\n",
    "        cube[:, 0, :] = cube[:, 0, :].rot90(k=3)\n",
    "    return cube\n",
    "\n",
    "def apply_moves(cube, moves):\n",
    "    for m in moves:\n",
    "        cube = move(cube, m)\n",
    "    return cube\n",
    "\n",
    "def reverse_moves(moves):\n",
    "    # Turn clockwise moves into counter-clockwise and vice versa\n",
    "    # Also reverse the order of moves\n",
    "    result = []\n",
    "    for m in moves:\n",
    "      result.append(reverse_move(m))\n",
    "    return list(reversed(result))\n",
    "\n",
    "def reverse_move(m):\n",
    "    # Turn clockwise moves into counter-clockwise and vice versa\n",
    "    if m.endswith(\"P\"):\n",
    "      return  m[0]\n",
    "    return m + \"P\"\n"
   ]
  },
  {
   "cell_type": "markdown",
   "metadata": {
    "id": "x3j5wd4nDELE"
   },
   "source": [
    "### Unit tests"
   ]
  },
  {
   "cell_type": "code",
   "execution_count": 9,
   "metadata": {
    "colab": {
     "base_uri": "https://localhost:8080/"
    },
    "id": "Bo0-GB-WxeTd",
    "outputId": "6f6e0575-3536-4b01-fc13-5cc8f5ab59fe"
   },
   "outputs": [
    {
     "name": "stdout",
     "output_type": "stream",
     "text": [
      "OK\n",
      "OK\n",
      "OK\n",
      "OK\n",
      "OK\n",
      "OK\n",
      "OK\n",
      "OK\n",
      "OK\n",
      "OK\n",
      "OK\n",
      "OK\n",
      "unscramble OK\n"
     ]
    }
   ],
   "source": [
    "def test():\n",
    "  encoded_cube = encode(move(RUBIKS_CUBE, \"R\"))\n",
    "  if encoded_cube == \"abideqghzjkfmnopwrscuvlxyt\":\n",
    "    print(\"OK\")\n",
    "  else:\n",
    "    print(\"NOT OK\", encoded_cube)\n",
    "\n",
    "  encoded_cube = encode(move(RUBIKS_CUBE, \"RP\"))\n",
    "  if encoded_cube == \"abtdelghcjkwmnopfrszuvqxyi\":\n",
    "    print(\"OK\")\n",
    "  else:\n",
    "    print(\"NOT OK\", encoded_cube)\n",
    "\n",
    "  encoded_cube = encode(move(RUBIKS_CUBE, \"L\"))\n",
    "  if encoded_cube == \"rbcjefahiuklmndpqxstovwgyz\":\n",
    "    print(\"OK\")\n",
    "  else:\n",
    "    print(\"NOT OK\", encoded_cube)\n",
    "\n",
    "  encoded_cube = encode(move(RUBIKS_CUBE, \"LP\"))\n",
    "  if encoded_cube == \"gbcoefxhidklmnupqastjvwryz\":\n",
    "    print(\"OK\")\n",
    "  else:\n",
    "    print(\"NOT OK\", encoded_cube)\n",
    "\n",
    "  encoded_cube = encode(move(RUBIKS_CUBE, \"U\"))\n",
    "  if encoded_cube == \"gdahebifcjklmnopqrstuvwxyz\":\n",
    "    print(\"OK\")\n",
    "  else:\n",
    "    print(\"NOT OK\", encoded_cube)\n",
    "\n",
    "  encoded_cube = encode(move(RUBIKS_CUBE, \"UP\"))\n",
    "  if encoded_cube == \"cfibehadgjklmnopqrstuvwxyz\":\n",
    "    print(\"OK\")\n",
    "  else:\n",
    "    print(\"NOT OK\", encoded_cube)\n",
    "\n",
    "  encoded_cube = encode(move(RUBIKS_CUBE, \"D\"))\n",
    "  if encoded_cube == \"abcdefghijklmnopqtwzsvyrux\":\n",
    "    print(\"OK\")\n",
    "  else:\n",
    "    print(\"NOT OK\", encoded_cube)\n",
    "\n",
    "  encoded_cube = encode(move(RUBIKS_CUBE, \"DP\"))\n",
    "  if encoded_cube == \"abcdefghijklmnopqxuryvszwt\":\n",
    "    print(\"OK\")\n",
    "  else:\n",
    "    print(\"NOT OK\", encoded_cube)\n",
    "\n",
    "  encoded_cube = encode(move(RUBIKS_CUBE, \"F\"))\n",
    "  if encoded_cube == \"abcdefxogjklmnyphrstuvwzqi\":\n",
    "    print(\"OK\")\n",
    "  else:\n",
    "    print(\"NOT OK\", encoded_cube)\n",
    "\n",
    "  encoded_cube = encode(move(RUBIKS_CUBE, \"FP\"))\n",
    "  if encoded_cube == \"abcdefiqzjklmnhpyrstuvwgox\":\n",
    "    print(\"OK\")\n",
    "  else:\n",
    "    print(\"NOT OK\", encoded_cube)\n",
    "\n",
    "  encoded_cube = encode(move(RUBIKS_CUBE, \"B\"))\n",
    "  if encoded_cube == \"cltdefghibksmnopqajruvwxyz\":\n",
    "    print(\"OK\")\n",
    "  else:\n",
    "    print(\"NOT OK\", encoded_cube)\n",
    "\n",
    "  encoded_cube = encode(move(RUBIKS_CUBE, \"BP\"))\n",
    "  if encoded_cube == \"rjadefghiskbmnopqtlcuvwxyz\":\n",
    "    print(\"OK\")\n",
    "  else:\n",
    "    print(\"NOT OK\", encoded_cube)\n",
    "\n",
    "def test_scramble():\n",
    "  moves = random.choices(move_types, k=MAX_MOVES)\n",
    "  scrambled_cube = apply_moves(RUBIKS_CUBE, moves)\n",
    "  reversed_moves = reverse_moves(moves)\n",
    "  unscrambled_cube = apply_moves(scrambled_cube, reversed_moves)\n",
    "  if encode(unscrambled_cube) == encode(RUBIKS_CUBE):\n",
    "    print(\"unscramble OK\")\n",
    "  else:\n",
    "    print(\"unscramble NOT OK\")\n",
    "\n",
    "test()\n",
    "test_scramble()"
   ]
  },
  {
   "cell_type": "markdown",
   "metadata": {
    "id": "7mcDZfoXt0do"
   },
   "source": [
    "## Data Loader\n"
   ]
  },
  {
   "cell_type": "code",
   "execution_count": 10,
   "metadata": {
    "id": "LtkHvp2Ot6Oa"
   },
   "outputs": [],
   "source": [
    "from torch.utils.data import Dataset, DataLoader\n",
    "\n",
    "def generate_data(num_samples):\n",
    "    data = []\n",
    "    seen_states = set()\n",
    "    while len(data) < num_samples:\n",
    "        moves = random.choices(move_types, k=random.randint(1, MAX_MOVES))\n",
    "        scrambled_cube = apply_moves(RUBIKS_CUBE.clone(), moves)\n",
    "        best_move = reverse_move(moves[-1])\n",
    "        \n",
    "        # Use the encoded representation to ensure uniqueness\n",
    "        scrambled_str = encode(scrambled_cube)\n",
    "        if scrambled_str not in seen_states:\n",
    "            seen_states.add(scrambled_str)\n",
    "            # add the reverse of the last move as the best move\n",
    "            data.append((scrambled_cube, best_move))\n",
    "    return data\n",
    "\n",
    "class RubiksCubeDataset(Dataset):\n",
    "    def __init__(self, data):\n",
    "        self.data = data\n",
    "\n",
    "    def __len__(self):\n",
    "        return len(self.data)\n",
    "\n",
    "    def __getitem__(self, idx):\n",
    "        return self.data[idx]\n"
   ]
  },
  {
   "cell_type": "markdown",
   "metadata": {
    "id": "uSgxE2ZHS-Sh"
   },
   "source": [
    "## Neural Network"
   ]
  },
  {
   "cell_type": "code",
   "execution_count": 11,
   "metadata": {
    "id": "0DDiVTL-2pDX"
   },
   "outputs": [],
   "source": [
    "import torch.nn as nn\n",
    "import torch.nn.functional as F\n",
    "class RubiksSolverNetwork():\n",
    "    def __init__(self):\n",
    "        # Create separate datasets for training and evaluation\n",
    "        combined_data = generate_data(101000)\n",
    "        random.shuffle(combined_data)\n",
    "        \n",
    "        train_data = combined_data[:100000]\n",
    "        eval_data  = combined_data[100000:]\n",
    "        self.train_dataset = RubiksCubeDataset(train_data)\n",
    "        self.eval_dataset = RubiksCubeDataset(eval_data)\n",
    "\n",
    "        # Create data loaders\n",
    "        self.train_loader = DataLoader(self.train_dataset, batch_size=32)\n",
    "        self.eval_loader = DataLoader(self.eval_dataset, batch_size=1)\n",
    "\n",
    "        # Define a convolutional layer\n",
    "        self.conv1 = nn.Conv2d(in_channels=3, out_channels=16, kernel_size=3, stride=1, padding=1)  # 16 output channels\n",
    "        \n",
    "        # Define a Linear layer for the flattened convolution output\n",
    "        self.fc1 = nn.Linear(16 * 3 * 3, 128)  # 16 channels * 3x3 cube size\n",
    "        self.fc2 = nn.Linear(128, 12)  # 12 output moves\n",
    "\n",
    "    def train(self):\n",
    "        losses = []\n",
    "        for cubes, best_moves in self.train_loader:\n",
    "            # cubes is of shape 32x3x3x3\n",
    "            # Convert moves to indices. R -> 0, RP -> 1, L -> 2 and so on.\n",
    "            best_moves = torch.tensor([move_types.index(m) for m in best_moves])\n",
    "            # Forward pass\n",
    "            output = self.forward(cubes)\n",
    "            # output is of shape 32x12\n",
    "\n",
    "            # cross-entropy loss\n",
    "            log_probs = torch.log_softmax(output, dim=1)  # Log probabilities\n",
    "            # at this point, log_probs is a matrix of shape 32x12\n",
    "            best_log_probs = log_probs[range(len(best_moves)), best_moves]\n",
    "            # best_log_probs is a column vector with 32 rows\n",
    "            loss = -best_log_probs.mean()  # Negative log-likelihood\n",
    "\n",
    "            # Compute gradients using autograd\n",
    "            loss.backward()\n",
    "\n",
    "            \n",
    "            # Gradient descent updates\n",
    "            with torch.no_grad():\n",
    "                for param in self.parameters():\n",
    "                    param -= 0.0001 * param.grad\n",
    "                    param.grad.zero_()\n",
    "\n",
    "            losses.append(loss.item())\n",
    "        print(f\"Training Loss: {np.mean(losses):.4f}\")\n",
    "\n",
    "    def eval(self):\n",
    "        correct = 0\n",
    "        total = 0\n",
    "\n",
    "        for cube, _ in self.eval_loader:  # batch_size=1 ensures cube has shape (1, 3, 3, 3)\n",
    "            for _ in range(2 * MAX_MOVES):  # Try up to these many moves\n",
    "                output = self.forward(cube)\n",
    "                predicted_move_index = torch.argmax(output, dim=1).item()\n",
    "                predicted_move = move_types[predicted_move_index]\n",
    "\n",
    "                # Apply the predicted move to the cube\n",
    "                cube = move(cube, predicted_move)\n",
    "\n",
    "                # the returned cube has shape (3, 3, 3)\n",
    "\n",
    "                # Check if the cube is solved\n",
    "                if torch.equal(cube, RUBIKS_CUBE):\n",
    "                    correct += 1\n",
    "                    break\n",
    "                # add batch dimension to make the shape (1, 3, 3, 3)\n",
    "                # this is because forward() expects a batch dimension.\n",
    "                cube.unsqueeze_(0)\n",
    "\n",
    "            total += 1\n",
    "        accuracy = 100 * correct / total\n",
    "        print(f\"Percentage of correctly solved cubes: {accuracy:.2f}%\")\n",
    "        return accuracy\n",
    "    \n",
    "    def forward(self, x):\n",
    "        # Input shape: (batch_size, 3, 3, 3)\n",
    "        x = x.permute(0, 3, 1, 2)  # Change shape to (batch_size, 3, 3, 3) -> (batch_size, channels, height, width)\n",
    "        \n",
    "        # Pass through convolutional layer\n",
    "        x = F.relu(self.conv1(x))  # Output shape: (batch_size, 16, 3, 3)\n",
    "        \n",
    "        # Flatten the output\n",
    "        x = x.reshape(x.size(0), -1)  # Output shape: (batch_size, 16 * 3 * 3)\n",
    "        \n",
    "        # Fully connected layers\n",
    "        x = F.relu(self.fc1(x))  # Output shape: (batch_size, 128)\n",
    "        return self.fc2(x)  # Output shape: (batch_size, 12)\n",
    "\n",
    "    def parameters(self):\n",
    "        # Return all trainable parameters\n",
    "        return [self.conv1.weight, self.conv1.bias, self.fc1.weight, self.fc1.bias, self.fc2.weight, self.fc2.bias]\n",
    "\n",
    "# Instantiate the neural network\n",
    "net = RubiksSolverNetwork()"
   ]
  },
  {
   "cell_type": "markdown",
   "metadata": {
    "id": "zAWqMaHpTGZK"
   },
   "source": [
    "# Training & Eval"
   ]
  },
  {
   "cell_type": "code",
   "execution_count": 12,
   "metadata": {
    "colab": {
     "base_uri": "https://localhost:8080/",
     "height": 1000
    },
    "id": "971ehXvdTI6Q",
    "outputId": "020b7e56-badc-49bb-d840-95e9ac259ae3",
    "scrolled": true
   },
   "outputs": [
    {
     "name": "stdout",
     "output_type": "stream",
     "text": [
      "Epoch 0\n",
      "Training Loss: 2.5104\n",
      "Percentage of correctly solved cubes: 0.00%\n",
      "Epoch 1\n",
      "Training Loss: 2.4375\n",
      "Percentage of correctly solved cubes: 0.50%\n",
      "Epoch 2\n",
      "Training Loss: 2.4055\n",
      "Percentage of correctly solved cubes: 1.20%\n",
      "Epoch 3\n",
      "Training Loss: 2.3827\n",
      "Percentage of correctly solved cubes: 1.60%\n",
      "Epoch 4\n",
      "Training Loss: 2.3661\n",
      "Percentage of correctly solved cubes: 2.00%\n",
      "Epoch 5\n",
      "Training Loss: 2.3539\n",
      "Percentage of correctly solved cubes: 2.00%\n",
      "Epoch 6\n",
      "Training Loss: 2.3449\n",
      "Percentage of correctly solved cubes: 1.90%\n",
      "Epoch 7\n",
      "Training Loss: 2.3382\n",
      "Percentage of correctly solved cubes: 1.80%\n",
      "Epoch 8\n",
      "Training Loss: 2.3330\n",
      "Percentage of correctly solved cubes: 1.80%\n",
      "Epoch 9\n",
      "Training Loss: 2.3288\n",
      "Percentage of correctly solved cubes: 1.70%\n",
      "Epoch 10\n",
      "Training Loss: 2.3254\n",
      "Percentage of correctly solved cubes: 1.80%\n",
      "Epoch 11\n",
      "Training Loss: 2.3224\n",
      "Percentage of correctly solved cubes: 1.80%\n",
      "Epoch 12\n",
      "Training Loss: 2.3199\n",
      "Percentage of correctly solved cubes: 1.90%\n",
      "Epoch 13\n",
      "Training Loss: 2.3176\n",
      "Percentage of correctly solved cubes: 2.00%\n",
      "Epoch 14\n",
      "Training Loss: 2.3155\n",
      "Percentage of correctly solved cubes: 1.90%\n",
      "Epoch 15\n",
      "Training Loss: 2.3135\n",
      "Percentage of correctly solved cubes: 1.90%\n",
      "Epoch 16\n",
      "Training Loss: 2.3116\n",
      "Percentage of correctly solved cubes: 2.20%\n",
      "Epoch 17\n",
      "Training Loss: 2.3098\n",
      "Percentage of correctly solved cubes: 2.50%\n",
      "Epoch 18\n",
      "Training Loss: 2.3080\n",
      "Percentage of correctly solved cubes: 2.50%\n",
      "Epoch 19\n",
      "Training Loss: 2.3063\n",
      "Percentage of correctly solved cubes: 3.40%\n",
      "Epoch 20\n",
      "Training Loss: 2.3047\n",
      "Percentage of correctly solved cubes: 3.50%\n",
      "Epoch 21\n",
      "Training Loss: 2.3031\n",
      "Percentage of correctly solved cubes: 3.60%\n",
      "Epoch 22\n",
      "Training Loss: 2.3015\n",
      "Percentage of correctly solved cubes: 3.70%\n",
      "Epoch 23\n",
      "Training Loss: 2.3000\n",
      "Percentage of correctly solved cubes: 3.80%\n",
      "Epoch 24\n",
      "Training Loss: 2.2984\n",
      "Percentage of correctly solved cubes: 3.80%\n",
      "Epoch 25\n",
      "Training Loss: 2.2969\n",
      "Percentage of correctly solved cubes: 4.00%\n",
      "Epoch 26\n",
      "Training Loss: 2.2953\n",
      "Percentage of correctly solved cubes: 4.20%\n",
      "Epoch 27\n",
      "Training Loss: 2.2938\n",
      "Percentage of correctly solved cubes: 4.30%\n",
      "Epoch 28\n",
      "Training Loss: 2.2923\n",
      "Percentage of correctly solved cubes: 4.70%\n",
      "Epoch 29\n",
      "Training Loss: 2.2907\n",
      "Percentage of correctly solved cubes: 4.70%\n",
      "Epoch 30\n",
      "Training Loss: 2.2892\n",
      "Percentage of correctly solved cubes: 4.70%\n",
      "Epoch 31\n",
      "Training Loss: 2.2877\n",
      "Percentage of correctly solved cubes: 4.70%\n",
      "Epoch 32\n",
      "Training Loss: 2.2862\n",
      "Percentage of correctly solved cubes: 4.70%\n",
      "Epoch 33\n",
      "Training Loss: 2.2846\n",
      "Percentage of correctly solved cubes: 4.70%\n",
      "Epoch 34\n",
      "Training Loss: 2.2832\n",
      "Percentage of correctly solved cubes: 4.90%\n",
      "Epoch 35\n",
      "Training Loss: 2.2817\n",
      "Percentage of correctly solved cubes: 5.00%\n",
      "Epoch 36\n",
      "Training Loss: 2.2802\n",
      "Percentage of correctly solved cubes: 5.10%\n",
      "Epoch 37\n",
      "Training Loss: 2.2787\n",
      "Percentage of correctly solved cubes: 5.30%\n",
      "Epoch 38\n",
      "Training Loss: 2.2772\n",
      "Percentage of correctly solved cubes: 5.10%\n",
      "Epoch 39\n",
      "Training Loss: 2.2757\n",
      "Percentage of correctly solved cubes: 5.20%\n",
      "Epoch 40\n",
      "Training Loss: 2.2743\n",
      "Percentage of correctly solved cubes: 5.30%\n",
      "Epoch 41\n",
      "Training Loss: 2.2728\n",
      "Percentage of correctly solved cubes: 5.30%\n",
      "Epoch 42\n",
      "Training Loss: 2.2713\n",
      "Percentage of correctly solved cubes: 5.50%\n",
      "Epoch 43\n",
      "Training Loss: 2.2699\n",
      "Percentage of correctly solved cubes: 5.70%\n",
      "Epoch 44\n",
      "Training Loss: 2.2684\n",
      "Percentage of correctly solved cubes: 5.90%\n",
      "Epoch 45\n",
      "Training Loss: 2.2669\n",
      "Percentage of correctly solved cubes: 6.00%\n",
      "Epoch 46\n",
      "Training Loss: 2.2655\n",
      "Percentage of correctly solved cubes: 6.00%\n",
      "Epoch 47\n",
      "Training Loss: 2.2641\n",
      "Percentage of correctly solved cubes: 6.10%\n",
      "Epoch 48\n",
      "Training Loss: 2.2626\n",
      "Percentage of correctly solved cubes: 6.10%\n",
      "Epoch 49\n",
      "Training Loss: 2.2612\n",
      "Percentage of correctly solved cubes: 6.20%\n",
      "Epoch 50\n",
      "Training Loss: 2.2598\n",
      "Percentage of correctly solved cubes: 6.40%\n",
      "Epoch 51\n",
      "Training Loss: 2.2584\n",
      "Percentage of correctly solved cubes: 6.40%\n",
      "Epoch 52\n",
      "Training Loss: 2.2570\n",
      "Percentage of correctly solved cubes: 6.50%\n",
      "Epoch 53\n",
      "Training Loss: 2.2556\n",
      "Percentage of correctly solved cubes: 6.60%\n",
      "Epoch 54\n",
      "Training Loss: 2.2543\n",
      "Percentage of correctly solved cubes: 6.50%\n",
      "Epoch 55\n",
      "Training Loss: 2.2529\n",
      "Percentage of correctly solved cubes: 6.60%\n",
      "Epoch 56\n",
      "Training Loss: 2.2515\n",
      "Percentage of correctly solved cubes: 6.60%\n",
      "Epoch 57\n",
      "Training Loss: 2.2502\n",
      "Percentage of correctly solved cubes: 6.70%\n",
      "Epoch 58\n",
      "Training Loss: 2.2488\n",
      "Percentage of correctly solved cubes: 6.90%\n",
      "Epoch 59\n",
      "Training Loss: 2.2475\n",
      "Percentage of correctly solved cubes: 7.00%\n",
      "Epoch 60\n",
      "Training Loss: 2.2462\n",
      "Percentage of correctly solved cubes: 7.10%\n",
      "Epoch 61\n",
      "Training Loss: 2.2449\n",
      "Percentage of correctly solved cubes: 7.10%\n",
      "Epoch 62\n",
      "Training Loss: 2.2435\n",
      "Percentage of correctly solved cubes: 7.20%\n",
      "Epoch 63\n",
      "Training Loss: 2.2422\n",
      "Percentage of correctly solved cubes: 7.20%\n",
      "Epoch 64\n",
      "Training Loss: 2.2409\n",
      "Percentage of correctly solved cubes: 7.20%\n",
      "Epoch 65\n",
      "Training Loss: 2.2396\n",
      "Percentage of correctly solved cubes: 7.20%\n",
      "Epoch 66\n",
      "Training Loss: 2.2383\n",
      "Percentage of correctly solved cubes: 7.50%\n",
      "Epoch 67\n",
      "Training Loss: 2.2370\n",
      "Percentage of correctly solved cubes: 7.50%\n",
      "Epoch 68\n",
      "Training Loss: 2.2358\n",
      "Percentage of correctly solved cubes: 7.30%\n",
      "Epoch 69\n",
      "Training Loss: 2.2345\n",
      "Percentage of correctly solved cubes: 7.30%\n",
      "Epoch 70\n",
      "Training Loss: 2.2332\n",
      "Percentage of correctly solved cubes: 7.40%\n",
      "Epoch 71\n",
      "Training Loss: 2.2320\n",
      "Percentage of correctly solved cubes: 7.40%\n",
      "Epoch 72\n",
      "Training Loss: 2.2308\n",
      "Percentage of correctly solved cubes: 7.50%\n",
      "Epoch 73\n",
      "Training Loss: 2.2296\n",
      "Percentage of correctly solved cubes: 7.70%\n",
      "Epoch 74\n",
      "Training Loss: 2.2284\n",
      "Percentage of correctly solved cubes: 7.80%\n",
      "Epoch 75\n",
      "Training Loss: 2.2272\n",
      "Percentage of correctly solved cubes: 8.20%\n",
      "Epoch 76\n",
      "Training Loss: 2.2260\n",
      "Percentage of correctly solved cubes: 8.20%\n",
      "Epoch 77\n",
      "Training Loss: 2.2249\n",
      "Percentage of correctly solved cubes: 8.20%\n",
      "Epoch 78\n",
      "Training Loss: 2.2237\n",
      "Percentage of correctly solved cubes: 8.10%\n",
      "Epoch 79\n",
      "Training Loss: 2.2226\n",
      "Percentage of correctly solved cubes: 8.10%\n",
      "Epoch 80\n",
      "Training Loss: 2.2215\n",
      "Percentage of correctly solved cubes: 8.10%\n",
      "Epoch 81\n",
      "Training Loss: 2.2204\n",
      "Percentage of correctly solved cubes: 8.20%\n",
      "Epoch 82\n",
      "Training Loss: 2.2193\n",
      "Percentage of correctly solved cubes: 8.20%\n",
      "Epoch 83\n",
      "Training Loss: 2.2182\n",
      "Percentage of correctly solved cubes: 8.30%\n",
      "Epoch 84\n",
      "Training Loss: 2.2171\n",
      "Percentage of correctly solved cubes: 8.40%\n",
      "Epoch 85\n",
      "Training Loss: 2.2160\n",
      "Percentage of correctly solved cubes: 8.50%\n",
      "Epoch 86\n",
      "Training Loss: 2.2150\n",
      "Percentage of correctly solved cubes: 8.40%\n",
      "Epoch 87\n",
      "Training Loss: 2.2140\n",
      "Percentage of correctly solved cubes: 8.60%\n",
      "Epoch 88\n",
      "Training Loss: 2.2129\n",
      "Percentage of correctly solved cubes: 8.60%\n",
      "Epoch 89\n",
      "Training Loss: 2.2119\n",
      "Percentage of correctly solved cubes: 8.70%\n",
      "Epoch 90\n",
      "Training Loss: 2.2109\n",
      "Percentage of correctly solved cubes: 8.70%\n",
      "Epoch 91\n",
      "Training Loss: 2.2099\n",
      "Percentage of correctly solved cubes: 8.70%\n",
      "Epoch 92\n",
      "Training Loss: 2.2089\n",
      "Percentage of correctly solved cubes: 8.70%\n",
      "Epoch 93\n",
      "Training Loss: 2.2080\n",
      "Percentage of correctly solved cubes: 8.70%\n",
      "Epoch 94\n",
      "Training Loss: 2.2070\n",
      "Percentage of correctly solved cubes: 8.80%\n",
      "Epoch 95\n",
      "Training Loss: 2.2061\n",
      "Percentage of correctly solved cubes: 8.80%\n",
      "Epoch 96\n",
      "Training Loss: 2.2052\n",
      "Percentage of correctly solved cubes: 8.80%\n",
      "Epoch 97\n",
      "Training Loss: 2.2042\n",
      "Percentage of correctly solved cubes: 8.90%\n",
      "Epoch 98\n",
      "Training Loss: 2.2033\n",
      "Percentage of correctly solved cubes: 9.00%\n",
      "Epoch 99\n",
      "Training Loss: 2.2024\n",
      "Percentage of correctly solved cubes: 9.00%\n"
     ]
    },
    {
     "data": {
      "image/png": "[encoded data removed]",
      "text/plain": [
       "<Figure size 640x480 with 1 Axes>"
      ]
     },
     "metadata": {},
     "output_type": "display_data"
    }
   ],
   "source": [
    "import matplotlib.pyplot as plt\n",
    "\n",
    "eval_accuracies = []\n",
    "for epoch in range(NUM_EPOCHS):\n",
    "  print(\"Epoch\", epoch)\n",
    "  net.train()\n",
    "  acc = net.eval()\n",
    "  eval_accuracies.append(acc)\n",
    "\n",
    "# plot accuracies\n",
    "plt.plot(eval_accuracies)\n",
    "plt.xlabel(\"Epoch\")\n",
    "plt.ylabel(\"Accuracy\")\n",
    "plt.show()\n"
   ]
  },
  {
   "cell_type": "markdown",
   "metadata": {
    "id": "GIePd9f9C0b5"
   },
   "source": [
    "### Scratchpad"
   ]
  },
  {
   "cell_type": "code",
   "execution_count": 13,
   "metadata": {
    "colab": {
     "base_uri": "https://localhost:8080/"
    },
    "id": "YjycQNIV2mwz",
    "outputId": "5fc683d2-3cc8-4717-989e-f964f69e6af6"
   },
   "outputs": [
    {
     "name": "stdout",
     "output_type": "stream",
     "text": [
      "tensor([[[ 1.,  2.,  3.],\n",
      "         [ 4.,  5.,  6.],\n",
      "         [ 7.,  8.,  9.]],\n",
      "\n",
      "        [[10., 11., 12.],\n",
      "         [13.,  0., 14.],\n",
      "         [15., 16., 17.]],\n",
      "\n",
      "        [[18., 19., 20.],\n",
      "         [21., 22., 23.],\n",
      "         [24., 25., 26.]]])\n",
      "tensor([[ 9., 17., 26.],\n",
      "        [ 6., 14., 23.],\n",
      "        [ 3., 12., 20.]])\n"
     ]
    }
   ],
   "source": [
    "print(RUBIKS_CUBE)\n",
    "cube = RUBIKS_CUBE\n",
    "print(cube[:, :, 2].rot90(k=1))"
   ]
  },
  {
   "cell_type": "markdown",
   "metadata": {
    "id": "0uVVJaDSBxQs"
   },
   "source": []
  },
  {
   "cell_type": "code",
   "execution_count": 14,
   "metadata": {
    "colab": {
     "base_uri": "https://localhost:8080/"
    },
    "id": "0canZmkO2ys7",
    "outputId": "4bd12a4d-7acc-430f-d1ef-7b3a3af3ae0f"
   },
   "outputs": [
    {
     "ename": "TypeError",
     "evalue": "__init__() got an unexpected keyword argument 'num_samples'",
     "output_type": "error",
     "traceback": [
      "\u001b[0;31m---------------------------------------------------------------------------\u001b[0m",
      "\u001b[0;31mTypeError\u001b[0m                                 Traceback (most recent call last)",
      "Cell \u001b[0;32mIn[14], line 1\u001b[0m\n\u001b[0;32m----> 1\u001b[0m dataset \u001b[38;5;241m=\u001b[39m \u001b[43mRubiksCubeDataset\u001b[49m\u001b[43m(\u001b[49m\u001b[43mnum_samples\u001b[49m\u001b[38;5;241;43m=\u001b[39;49m\u001b[38;5;241;43m1000\u001b[39;49m\u001b[43m)\u001b[49m\n\u001b[1;32m      2\u001b[0m dataloader \u001b[38;5;241m=\u001b[39m DataLoader(dataset, batch_size\u001b[38;5;241m=\u001b[39m\u001b[38;5;241m32\u001b[39m, shuffle\u001b[38;5;241m=\u001b[39m\u001b[38;5;28;01mTrue\u001b[39;00m)\n\u001b[1;32m      4\u001b[0m \u001b[38;5;28mprint\u001b[39m(\u001b[38;5;28mlen\u001b[39m(dataset))\n",
      "\u001b[0;31mTypeError\u001b[0m: __init__() got an unexpected keyword argument 'num_samples'"
     ]
    }
   ],
   "source": [
    "dataset = RubiksCubeDataset(num_samples=1000)\n",
    "dataloader = DataLoader(dataset, batch_size=32, shuffle=True)\n",
    "\n",
    "print(len(dataset))\n",
    "# Example usage\n",
    "for cubes, best_moves in dataloader:\n",
    "    # print(\"Cube State:\", cubes)\n",
    "    print(\"Best Move:\", best_moves)\n",
    "    break"
   ]
  },
  {
   "cell_type": "code",
   "execution_count": null,
   "metadata": {
    "colab": {
     "base_uri": "https://localhost:8080/",
     "height": 448
    },
    "id": "lKuhXy3ZxO4N",
    "outputId": "faede106-7069-47a9-f399-63553fdea7b8"
   },
   "outputs": [],
   "source": [
    "plt.imshow(net.weight2.detach().numpy())\n"
   ]
  },
  {
   "cell_type": "code",
   "execution_count": null,
   "metadata": {
    "colab": {
     "base_uri": "https://localhost:8080/",
     "height": 226
    },
    "id": "jAr1tEYezGuS",
    "outputId": "3c3c6e4b-d44f-4835-9e28-31ddba5676f2"
   },
   "outputs": [],
   "source": [
    "pic = plt.imshow(RUBIKS_CUBE.reshape(3, 9), cmap='hsv')"
   ]
  },
  {
   "cell_type": "code",
   "execution_count": null,
   "metadata": {
    "colab": {
     "base_uri": "https://localhost:8080/",
     "height": 226
    },
    "id": "uh7kl_qKzjt1",
    "outputId": "737024b1-d315-4113-ae47-87d83ad0940a"
   },
   "outputs": [],
   "source": [
    "moves = random.choices(move_types, k=MAX_MOVES)\n",
    "scrambled_cube = apply_moves(RUBIKS_CUBE, moves)\n",
    "pic = plt.imshow(scrambled_cube.reshape(3, 9), cmap='hsv')"
   ]
  },
  {
   "cell_type": "code",
   "execution_count": null,
   "metadata": {
    "id": "_b4w9LViz5j0"
   },
   "outputs": [],
   "source": []
  }
 ],
 "metadata": {
  "colab": {
   "collapsed_sections": [
    "x3j5wd4nDELE"
   ],
   "provenance": []
  },
  "kernelspec": {
   "display_name": "Python 3 (ipykernel)",
   "language": "python",
   "name": "python3"
  },
  "language_info": {
   "codemirror_mode": {
    "name": "ipython",
    "version": 3
   },
   "file_extension": ".py",
   "mimetype": "text/x-python",
   "name": "python",
   "nbconvert_exporter": "python",
   "pygments_lexer": "ipython3",
   "version": "3.9.6"
  }
 },
 "nbformat": 4,
 "nbformat_minor": 4
}
